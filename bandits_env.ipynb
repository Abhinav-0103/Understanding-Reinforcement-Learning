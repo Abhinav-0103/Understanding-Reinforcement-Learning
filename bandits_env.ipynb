{
 "cells": [
  {
   "cell_type": "code",
   "execution_count": 17,
   "id": "9b416cb8",
   "metadata": {},
   "outputs": [],
   "source": [
    "import numpy as np\n",
    "from logger import setup_logger"
   ]
  },
  {
   "cell_type": "code",
   "execution_count": 24,
   "id": "f12ea19e",
   "metadata": {},
   "outputs": [],
   "source": [
    "rl_logger = setup_logger(\"Agent\")"
   ]
  },
  {
   "cell_type": "markdown",
   "id": "10495562",
   "metadata": {},
   "source": [
    "# Create Bandit Class"
   ]
  },
  {
   "cell_type": "code",
   "execution_count": 19,
   "id": "2e5228b1",
   "metadata": {},
   "outputs": [],
   "source": [
    "class Bandit :\n",
    "    def __init__(self, k: int=10) :\n",
    "        self.k = k\n",
    "        self.q_star = np.random.normal(loc=0.0, scale=1.0, size=k)\n",
    "        self.optimal_action = np.argmax(self.q_star)\n",
    "    \n",
    "    def step(self, action: int) -> float :\n",
    "        true_value = self.q_star[action]\n",
    "        return np.random.normal(loc=true_value, scale=1.0)"
   ]
  },
  {
   "cell_type": "code",
   "execution_count": 20,
   "id": "25fb3158",
   "metadata": {},
   "outputs": [],
   "source": [
    "bandit = Bandit(k=10)"
   ]
  },
  {
   "cell_type": "markdown",
   "id": "b2ca3bdf",
   "metadata": {},
   "source": [
    "### Bandit Info"
   ]
  },
  {
   "cell_type": "code",
   "execution_count": 28,
   "id": "c3fa0005",
   "metadata": {},
   "outputs": [
    {
     "name": "stdout",
     "output_type": "stream",
     "text": [
      "#Arms: 10\n",
      "\n",
      "q*(0) = 0.82\n",
      "q*(1) = -1.52\n",
      "q*(2) = -0.43\n",
      "q*(3) = -0.74\n",
      "q*(4) = -0.70\n",
      "q*(5) = -2.14\n",
      "q*(6) = -0.63\n",
      "q*(7) = 0.60\n",
      "q*(8) = 2.56\n",
      "q*(9) = 0.39\n",
      "\n",
      "Optimal Action: 8\n"
     ]
    }
   ],
   "source": [
    "print(f\"#Arms: {bandit.k}\\n\")\n",
    "\n",
    "for i, val in enumerate(bandit.q_star) :\n",
    "    print(f\"q*({i}) = {val:.2f}\")\n",
    "\n",
    "print(f\"\\nOptimal Action: {bandit.optimal_action}\")"
   ]
  },
  {
   "cell_type": "code",
   "execution_count": 21,
   "id": "4fef4689",
   "metadata": {},
   "outputs": [],
   "source": [
    "np.random.seed(42)"
   ]
  },
  {
   "cell_type": "markdown",
   "id": "ebaaf271",
   "metadata": {},
   "source": [
    "# Approach: Random Policy"
   ]
  },
  {
   "cell_type": "code",
   "execution_count": 25,
   "id": "83131bcc",
   "metadata": {},
   "outputs": [
    {
     "name": "stderr",
     "output_type": "stream",
     "text": [
      "2025-05-12 18:25:45,125 - Agent - INFO - Reward: -1.622660734104696\n",
      "2025-05-12 18:25:45,127 - Agent - INFO - Action: 0\n",
      "2025-05-12 18:25:45,127 - Agent - INFO - Not Optimal\n",
      "2025-05-12 18:25:45,128 - Agent - INFO - Reward: 0.17539516086189688\n",
      "2025-05-12 18:25:45,128 - Agent - INFO - Action: 2\n",
      "2025-05-12 18:25:45,129 - Agent - INFO - Not Optimal\n",
      "2025-05-12 18:25:45,129 - Agent - INFO - Reward: -0.6539301384183166\n",
      "2025-05-12 18:25:45,130 - Agent - INFO - Action: 6\n",
      "2025-05-12 18:25:45,130 - Agent - INFO - Not Optimal\n",
      "2025-05-12 18:25:45,130 - Agent - INFO - Reward: -0.34779248458497514\n",
      "2025-05-12 18:25:45,131 - Agent - INFO - Action: 4\n",
      "2025-05-12 18:25:45,131 - Agent - INFO - Not Optimal\n",
      "2025-05-12 18:25:45,131 - Agent - INFO - Reward: -0.9531689153062436\n",
      "2025-05-12 18:25:45,132 - Agent - INFO - Action: 2\n",
      "2025-05-12 18:25:45,132 - Agent - INFO - Not Optimal\n"
     ]
    }
   ],
   "source": [
    "for t in range(5) :\n",
    "    action = np.random.choice(10)\n",
    "    reward = bandit.step(action)\n",
    "    rl_logger.info(f\"Reward: {reward}\")\n",
    "    rl_logger.info(f\"Action: {action}\")\n",
    "    rl_logger.info(\"Optimal\" if action == bandit.optimal_action else \"Not Optimal\")"
   ]
  },
  {
   "cell_type": "code",
   "execution_count": null,
   "id": "c7dbad8a",
   "metadata": {},
   "outputs": [],
   "source": []
  }
 ],
 "metadata": {
  "kernelspec": {
   "display_name": "rl",
   "language": "python",
   "name": "python3"
  },
  "language_info": {
   "codemirror_mode": {
    "name": "ipython",
    "version": 3
   },
   "file_extension": ".py",
   "mimetype": "text/x-python",
   "name": "python",
   "nbconvert_exporter": "python",
   "pygments_lexer": "ipython3",
   "version": "3.12.9"
  }
 },
 "nbformat": 4,
 "nbformat_minor": 5
}
